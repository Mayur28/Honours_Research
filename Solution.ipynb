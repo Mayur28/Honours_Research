{
  "nbformat": 4,
  "nbformat_minor": 0,
  "metadata": {
    "colab": {
      "name": "Solution.ipynb",
      "provenance": [],
      "collapsed_sections": [],
      "toc_visible": true,
      "machine_shape": "hm"
    },
    "kernelspec": {
      "name": "python3",
      "display_name": "Python 3"
    },
    "accelerator": "GPU"
  },
  "cells": [
    {
      "cell_type": "markdown",
      "metadata": {
        "id": "KMO_NuX-Mztz"
      },
      "source": [
        "## **<u>Low-light Image Enhancement Using an Unsupervised Generative Adversarial Network</u>**\n",
        "**By : <u>Mayur Ranchod (1601745)</u>**\n",
        "\n",
        "This is the Colab notebook corresponding to my research report. We attempted to take a modern approach to the low-light image enhancement problem and train a Generative Adversarial Network (GAN) in an unsupervised setting which relies on *self-regularization techniques* to guide the training process. As a result of training the model in an unsupervised setting, our solution is applicable to images from a broad domain and achieves superior results. "
      ]
    },
    {
      "cell_type": "markdown",
      "metadata": {
        "id": "rF0eCRq5OlWw"
      },
      "source": [
        "##<u>**Description of the cell below**</u>\n",
        "Line 1: Query the GPU used<br>\n",
        "Lines 2 - 3 : Mount your Google Drive where the model checkpoints and results from training and testing will be stored<br>\n",
        "Line 4 - 5 : Clones the repository containing the source code and navigates to the appropriate directory<br>\n",
        "Line 6 : Downloads the weight file pertaining to the VGG16 model used for computing the perceptual loss<br>\n",
        "\n"
      ]
    },
    {
      "cell_type": "code",
      "metadata": {
        "id": "fqS59Xk0sXjP",
        "colab": {
          "base_uri": "https://localhost:8080/"
        },
        "outputId": "558dfe0e-8125-4af2-a759-ad9f24a0299b"
      },
      "source": [
        "!nvidia-smi\n",
        "from google.colab import drive\n",
        "drive.mount('/content/drive')\n",
        "! git clone -b DataBranch https://github.com/Mayur28/MyResearch.git\n",
        "%cd  MyResearch/MyResearch/\n",
        "!wget --load-cookies /tmp/cookies.txt \"https://docs.google.com/uc?export=download&confirm=$(wget --quiet --save-cookies /tmp/cookies.txt --keep-session-cookies --no-check-certificate 'https://docs.google.com/uc?export=download&id=1IfCeihmPqGWJ0KHmH-mTMi_pn3z3Zo-P' -O- | sed -rn 's/.*confirm=([0-9A-Za-z_]+).*/\\1\\n/p')&id=1IfCeihmPqGWJ0KHmH-mTMi_pn3z3Zo-P\" -O vgg16.weight && rm -rf /tmp/cookies.txt "
      ],
      "execution_count": 1,
      "outputs": [
        {
          "output_type": "stream",
          "text": [
            "Sun Nov 29 19:27:40 2020       \n",
            "+-----------------------------------------------------------------------------+\n",
            "| NVIDIA-SMI 455.38       Driver Version: 418.67       CUDA Version: 10.1     |\n",
            "|-------------------------------+----------------------+----------------------+\n",
            "| GPU  Name        Persistence-M| Bus-Id        Disp.A | Volatile Uncorr. ECC |\n",
            "| Fan  Temp  Perf  Pwr:Usage/Cap|         Memory-Usage | GPU-Util  Compute M. |\n",
            "|                               |                      |               MIG M. |\n",
            "|===============================+======================+======================|\n",
            "|   0  Tesla P100-PCIE...  Off  | 00000000:00:04.0 Off |                    0 |\n",
            "| N/A   34C    P0    26W / 250W |      0MiB / 16280MiB |      0%      Default |\n",
            "|                               |                      |                 ERR! |\n",
            "+-------------------------------+----------------------+----------------------+\n",
            "                                                                               \n",
            "+-----------------------------------------------------------------------------+\n",
            "| Processes:                                                                  |\n",
            "|  GPU   GI   CI        PID   Type   Process name                  GPU Memory |\n",
            "|        ID   ID                                                   Usage      |\n",
            "|=============================================================================|\n",
            "|  No running processes found                                                 |\n",
            "+-----------------------------------------------------------------------------+\n",
            "Mounted at /content/drive\n",
            "Cloning into 'MyResearch'...\n",
            "remote: Enumerating objects: 95, done.\u001b[K\n",
            "remote: Counting objects: 100% (95/95), done.\u001b[K\n",
            "remote: Compressing objects: 100% (68/68), done.\u001b[K\n",
            "remote: Total 3812 (delta 39), reused 73 (delta 26), pack-reused 3717\u001b[K\n",
            "Receiving objects: 100% (3812/3812), 901.66 MiB | 57.60 MiB/s, done.\n",
            "Resolving deltas: 100% (404/404), done.\n",
            "Checking out files: 100% (2273/2273), done.\n",
            "/content/MyResearch/MyResearch\n",
            "--2020-11-29 19:28:22--  https://docs.google.com/uc?export=download&confirm=&id=1IfCeihmPqGWJ0KHmH-mTMi_pn3z3Zo-P\n",
            "Resolving docs.google.com (docs.google.com)... 172.217.193.139, 172.217.193.100, 172.217.193.138, ...\n",
            "Connecting to docs.google.com (docs.google.com)|172.217.193.139|:443... connected.\n",
            "HTTP request sent, awaiting response... 302 Moved Temporarily\n",
            "Location: https://doc-0o-60-docs.googleusercontent.com/docs/securesc/qgg89fb05eroa9ooqjamf6vl9qmlpaeu/i1bq09a31h4g0kgqa7igfrd74sbshiol/1606678050000/11646174710191069799/17809737487375542938Z/1IfCeihmPqGWJ0KHmH-mTMi_pn3z3Zo-P?e=download [following]\n",
            "--2020-11-29 19:28:24--  https://doc-0o-60-docs.googleusercontent.com/docs/securesc/qgg89fb05eroa9ooqjamf6vl9qmlpaeu/i1bq09a31h4g0kgqa7igfrd74sbshiol/1606678050000/11646174710191069799/17809737487375542938Z/1IfCeihmPqGWJ0KHmH-mTMi_pn3z3Zo-P?e=download\n",
            "Resolving doc-0o-60-docs.googleusercontent.com (doc-0o-60-docs.googleusercontent.com)... 108.177.13.132, 2607:f8b0:400c:c09::84\n",
            "Connecting to doc-0o-60-docs.googleusercontent.com (doc-0o-60-docs.googleusercontent.com)|108.177.13.132|:443... connected.\n",
            "HTTP request sent, awaiting response... 302 Found\n",
            "Location: https://docs.google.com/nonceSigner?nonce=t7rlkfa37s4tu&continue=https://doc-0o-60-docs.googleusercontent.com/docs/securesc/qgg89fb05eroa9ooqjamf6vl9qmlpaeu/i1bq09a31h4g0kgqa7igfrd74sbshiol/1606678050000/11646174710191069799/17809737487375542938Z/1IfCeihmPqGWJ0KHmH-mTMi_pn3z3Zo-P?e%3Ddownload&hash=5l0kage2ed20vmf9b1ruqm93ijt3bed7 [following]\n",
            "--2020-11-29 19:28:24--  https://docs.google.com/nonceSigner?nonce=t7rlkfa37s4tu&continue=https://doc-0o-60-docs.googleusercontent.com/docs/securesc/qgg89fb05eroa9ooqjamf6vl9qmlpaeu/i1bq09a31h4g0kgqa7igfrd74sbshiol/1606678050000/11646174710191069799/17809737487375542938Z/1IfCeihmPqGWJ0KHmH-mTMi_pn3z3Zo-P?e%3Ddownload&hash=5l0kage2ed20vmf9b1ruqm93ijt3bed7\n",
            "Connecting to docs.google.com (docs.google.com)|172.217.193.139|:443... connected.\n",
            "HTTP request sent, awaiting response... 302 Found\n",
            "Location: https://doc-0o-60-docs.googleusercontent.com/docs/securesc/qgg89fb05eroa9ooqjamf6vl9qmlpaeu/i1bq09a31h4g0kgqa7igfrd74sbshiol/1606678050000/11646174710191069799/17809737487375542938Z/1IfCeihmPqGWJ0KHmH-mTMi_pn3z3Zo-P?e=download&nonce=t7rlkfa37s4tu&user=17809737487375542938Z&hash=4hnb80go80279ik58ev0n3162ai48oae [following]\n",
            "--2020-11-29 19:28:24--  https://doc-0o-60-docs.googleusercontent.com/docs/securesc/qgg89fb05eroa9ooqjamf6vl9qmlpaeu/i1bq09a31h4g0kgqa7igfrd74sbshiol/1606678050000/11646174710191069799/17809737487375542938Z/1IfCeihmPqGWJ0KHmH-mTMi_pn3z3Zo-P?e=download&nonce=t7rlkfa37s4tu&user=17809737487375542938Z&hash=4hnb80go80279ik58ev0n3162ai48oae\n",
            "Connecting to doc-0o-60-docs.googleusercontent.com (doc-0o-60-docs.googleusercontent.com)|108.177.13.132|:443... connected.\n",
            "HTTP request sent, awaiting response... 200 OK\n",
            "Length: unspecified [application/octet-stream]\n",
            "Saving to: ‘vgg16.weight’\n",
            "\n",
            "vgg16.weight            [ <=>                ]  56.13M   343MB/s    in 0.2s    \n",
            "\n",
            "2020-11-29 19:28:24 (343 MB/s) - ‘vgg16.weight’ saved [58861781]\n",
            "\n"
          ],
          "name": "stdout"
        }
      ]
    },
    {
      "cell_type": "markdown",
      "metadata": {
        "id": "73RhFpg_lugn"
      },
      "source": [
        "Before you proceed, should you wish to only use the pre-trained model, please follow the instructions presented below:\n",
        "\n",
        "\n",
        "1. Visit https://drive.google.com/.\n",
        "2. Create a directory named *Low-light_Image_Enh*.\n",
        "3. Within this newly created directory, create an additional directory titled *TheModel*.\n",
        "4. Upload the [pre-trained weights](https://drive.google.com/file/d/1T0nMAWe5EELxPNMQd0Rmpv5lQy29JglL/view?usp=sharing) inside this new directory.\n",
        "\n"
      ]
    },
    {
      "cell_type": "markdown",
      "metadata": {
        "id": "vYvbswDQNtBX"
      },
      "source": [
        "Should you wish to review the source code or would like to configure the training and testing procedure, please open the File Explorer (folder icon to the left of the screen) $\\rightarrow$ MyResearch $\\rightarrow$ MyResearch. In this directory, you will find 5 python scripts:\n",
        "\n",
        "\n",
        "*   *ManageData.py* : Responsible for loading the dataset and configuring the necessary DataLoaders. When training the model, this script is also responsible for performing data-augmentation techniques.\n",
        "*   *Networks.py* : Contains the source code that creates all networks, i.e., the generator and global-local discriminator. This is in addition to the auxillary functions (forward pass) for the networks to functions.\n",
        "*   *Setup.py* : Provides the user the flexibilty to configure the training and testing procedures. This includes tuning hyperparameters such as batch size, learning rate, etc.\n",
        "*   *test.py* : Commences the testing procedure.\n",
        "*   *train.py* : Commences the training procedure.\n",
        "\n",
        "**For further information, please refer to the comments in each of the scripts.**\n"
      ]
    },
    {
      "cell_type": "markdown",
      "metadata": {
        "id": "qHD7oUXYS3-B"
      },
      "source": [
        "All results produced during training or testing can be viewed by visiting https://drive.google.com/ and navigating to the directory /Low-light_Image_Enh/ TheModel\n",
        "\n",
        "Should you wish to train the model using the default hyperparameters, please execute:\n",
        "\n",
        "\n",
        "```\n",
        "!python train.py\n",
        "```\n",
        "Similarly, the model can be evaluated by executing:\n",
        "\n",
        "\n",
        "```\n",
        "!python test.py\n",
        "```\n",
        "This will automatically use the latest generator model in the directory Low-light_Image_Enh/ TheModel found on your Google Drive.<br>\n",
        "**When executing the code, please ensure that the `data_source` flag in Setup.py is configured correctly.**<br>\n",
        "To Train : Set `data_source` to `../final_dataset`<br>\n",
        "To Evaluate: Set `data_source` to `../test_dataset` and ensure that the images that you wish to enhance are inserted into the `testA` directory.<br>\n",
        "\n",
        "\n"
      ]
    },
    {
      "cell_type": "code",
      "metadata": {
        "id": "YBmZtrEvA1uo",
        "colab": {
          "base_uri": "https://localhost:8080/"
        },
        "outputId": "02fa8d05-f892-4cb7-b1f1-95bbc1a85c1a"
      },
      "source": [
        "!python test.py"
      ],
      "execution_count": 2,
      "outputs": [
        {
          "output_type": "stream",
          "text": [
            "------------ Options -------------\n",
            "batch_size: 1\n",
            "checkpoints_dir: /content/drive/My Drive/Low-light_Image_Enh/\n",
            "crop_size: 512\n",
            "data_source: ../test_dataset\n",
            "gpu_ids: [0]\n",
            "name: TheModel\n",
            "norm_type: batch\n",
            "num_disc_layers: 7\n",
            "num_downs: 9\n",
            "num_patch_disc_layers: 6\n",
            "num_patches: 7\n",
            "patch_size: 32\n",
            "phase: test\n",
            "-------------- End ----------------\n",
            "/content/drive/My Drive/Low-light_Image_Enh/TheModel/Testing_IO\n",
            "36\n",
            "Processing: 2_9_2.png\n",
            "Processing: 2_2.png\n",
            "Processing: 2_24_2.png\n",
            "Processing: 2_6_2.png\n",
            "Processing: 2_5_2.png\n",
            "Processing: 2_17_2.png\n",
            "Processing: 2_20_2.png\n",
            "Processing: 2_2_2.png\n",
            "Processing: 2_25_2.png\n",
            "Processing: 2_18_2.png\n",
            "Processing: 2_10_2.png\n",
            "Processing: 2_14_2.png\n",
            "Processing: 2_15_2.png\n",
            "Processing: 2_16_2.png\n",
            "Processing: 2_32_2.png\n",
            "Processing: 2_3_2.png\n",
            "Processing: 2_1_2.png\n",
            "Processing: 2_27_2.png\n",
            "Processing: 2_11_2.png\n",
            "Processing: 2_21_2.png\n",
            "Processing: 2_29_2.png\n",
            "Processing: 2_23_2.png\n",
            "Processing: 2_8_2.png\n",
            "Processing: 2_12_2.png\n",
            "Processing: 2_22_2.png\n",
            "Processing: 2_34_2.png\n",
            "Processing: 2_4_2.png\n",
            "Processing: 2_19_2.png\n",
            "Processing: 2_31_2.png\n",
            "Processing: 2_26_2.png\n",
            "Processing: 2_28_2.png\n",
            "Processing: 2_13_2.png\n",
            "Processing: 2_7_2.png\n",
            "Processing: 1_2.png\n",
            "Processing: 2_30_2.png\n",
            "Processing: 2_33_2.png\n"
          ],
          "name": "stdout"
        }
      ]
    },
    {
      "cell_type": "code",
      "metadata": {
        "id": "1qrzCC9kUR7r"
      },
      "source": [
        "%pwd"
      ],
      "execution_count": null,
      "outputs": []
    },
    {
      "cell_type": "code",
      "metadata": {
        "id": "99ppBNykUXl5"
      },
      "source": [
        ""
      ],
      "execution_count": null,
      "outputs": []
    }
  ]
}